{
  "nbformat": 4,
  "nbformat_minor": 0,
  "metadata": {
    "kernelspec": {
      "display_name": "Python 3",
      "language": "python",
      "name": "python3"
    },
    "language_info": {
      "codemirror_mode": {
        "name": "ipython",
        "version": 3
      },
      "file_extension": ".py",
      "mimetype": "text/x-python",
      "name": "python",
      "nbconvert_exporter": "python",
      "pygments_lexer": "ipython3",
      "version": "3.6.8"
    },
    "colab": {
      "name": "06 Tensorflow_Keras_Functional_API.ipynb",
      "provenance": []
    },
    "accelerator": "TPU"
  },
  "cells": [
    {
      "cell_type": "markdown",
      "metadata": {
        "id": "E_SEtySSBBvu"
      },
      "source": [
        "# Introducing the Keras Functional API\n",
        "\n",
        "**Learning Objectives**\n",
        "  1. Understand embeddings and how to create them with the feature column API\n",
        "  1. Understand Deep and Wide models and when to use them\n",
        "  1. Understand the Keras functional API and how to build a deep and wide model with it\n",
        "\n",
        "## Introduction\n",
        "\n",
        "In the last notebook, we learned about the Keras Sequential API. The [Keras Functional API](https://www.tensorflow.org/guide/keras#functional_api) provides an alternate way of building models which is more flexible. With the Functional API, we can build models with more complex topologies, multiple input or output layers, shared layers or non-sequential data flows (e.g. residual layers).\n",
        "\n",
        "In this notebook we'll use what we learned about feature columns to build a Wide & Deep model. Recall, that the idea behind Wide & Deep models is to join the two methods of learning through memorization and generalization by making a wide linear model and a deep learning model to accommodate both. You can have a look at the original research paper here: [Wide & Deep Learning for Recommender Systems](https://arxiv.org/abs/1606.07792).\n",
        "\n",
        "The Wide part of the model is associated with the memory element. In this case, we train a linear model with a wide set of crossed features and learn the correlation of this related data with the assigned label. The Deep part of the model is associated with the generalization element where we use embedding vectors for features. The best embeddings are then learned through the training process. While both of these methods can work well alone, Wide & Deep models excel by combining these techniques together. "
      ]
    },
    {
      "cell_type": "code",
      "metadata": {
        "colab": {
          "base_uri": "https://localhost:8080/"
        },
        "id": "5VcYazqYBBvy",
        "outputId": "e9450a19-8dde-4b34-a152-bdb312f685f4"
      },
      "source": [
        "# Ensure the right version of Tensorflow is installed.\n",
        "!pip freeze | grep tensorflow==2.3 || pip install tensorflow==2.3"
      ],
      "execution_count": 14,
      "outputs": [
        {
          "output_type": "stream",
          "text": [
            "tensorflow==2.3.0\n"
          ],
          "name": "stdout"
        }
      ]
    },
    {
      "cell_type": "markdown",
      "metadata": {
        "id": "cDtUOzaaBBvz"
      },
      "source": [
        "Kindly ignore the deprecation warnings and incompatibility errors."
      ]
    },
    {
      "cell_type": "markdown",
      "metadata": {
        "id": "NPvtxuVSBBvz"
      },
      "source": [
        "Start by importing the necessary libraries for this lab."
      ]
    },
    {
      "cell_type": "code",
      "metadata": {
        "colab": {
          "base_uri": "https://localhost:8080/"
        },
        "id": "UVAfghztBBv0",
        "outputId": "dcf9c0fa-00b4-4bb4-e45e-3d952b0c5ffc"
      },
      "source": [
        "# Importing necessary modules/libraries such as numpy, pandas and datetime.\n",
        "import datetime\n",
        "import os\n",
        "import shutil\n",
        "\n",
        "import numpy as np\n",
        "import pandas as pd\n",
        "import tensorflow as tf\n",
        "\n",
        "from matplotlib import pyplot as plt\n",
        "from tensorflow import keras\n",
        "\n",
        "from tensorflow import feature_column as fc\n",
        "\n",
        "from tensorflow.keras import Model\n",
        "from tensorflow.keras.layers import (\n",
        "    Input, Dense, DenseFeatures, concatenate)\n",
        "from tensorflow.keras.callbacks import TensorBoard\n",
        "\n",
        "print(tf.__version__)"
      ],
      "execution_count": 15,
      "outputs": [
        {
          "output_type": "stream",
          "text": [
            "2.3.0\n"
          ],
          "name": "stdout"
        }
      ]
    },
    {
      "cell_type": "code",
      "metadata": {
        "id": "VCNDPUG9BBv0"
      },
      "source": [
        "# It sets the backend of matplotlib to the 'inline' backend. The output of plotting commands is displayed inline within frontends, directly\n",
        "# below the code cell that produced it. The resulting plots will then also be stored in the notebook document.\n",
        "%matplotlib inline"
      ],
      "execution_count": 16,
      "outputs": []
    },
    {
      "cell_type": "markdown",
      "metadata": {
        "id": "dsiWNAtzBBv1"
      },
      "source": [
        "## Use tf.data to read the CSV files\n",
        "\n",
        "We wrote these functions for reading data from the csv files above in the [previous notebook](2_dataset_api.ipynb). For this lab we will also include some additional engineered features in our model. In particular, we will compute the difference in latitude and longitude, as well as the Euclidean distance between the pick-up and drop-off locations. We can accomplish this by adding these new features to the features dictionary with the function `add_engineered_features` below. \n",
        "\n",
        "Note that we include a call to this function when collecting our features dict and labels in the `features_and_labels` function below as well. "
      ]
    },
    {
      "cell_type": "code",
      "metadata": {
        "id": "mvhnIzoFBBv1"
      },
      "source": [
        "# Selecting specific CSV_COLUMNS, LABEL_COLUMN, DEFAULTS, UNWANTED_COLS.\n",
        "CSV_COLUMNS = [\n",
        "    'fare_amount',\n",
        "    'pickup_datetime',\n",
        "    'pickup_longitude',\n",
        "    'pickup_latitude',\n",
        "    'dropoff_longitude',\n",
        "    'dropoff_latitude',\n",
        "    'passenger_count',\n",
        "    'key'\n",
        "]\n",
        "LABEL_COLUMN = 'fare_amount'\n",
        "DEFAULTS = [[0.0], ['na'], [0.0], [0.0], [0.0], [0.0], [0.0], ['na']]\n",
        "UNWANTED_COLS = ['pickup_datetime', 'key']\n",
        "\n",
        "\n",
        "# Create an input function reading a file using the Dataset API\n",
        "def features_and_labels(row_data):\n",
        "    label = row_data.pop(LABEL_COLUMN)\n",
        "    features = row_data\n",
        "        \n",
        "    for unwanted_col in UNWANTED_COLS:\n",
        "        features.pop(unwanted_col)\n",
        "\n",
        "    return features, label\n",
        "\n",
        "\n",
        "# Reading CSV files into a dataset.\n",
        "def create_dataset(pattern, batch_size=1, mode='eval'):\n",
        "    dataset = tf.data.experimental.make_csv_dataset(\n",
        "        pattern, batch_size, CSV_COLUMNS, DEFAULTS)\n",
        "\n",
        "    dataset = dataset.map(features_and_labels)\n",
        "    \n",
        "    if mode == 'train':\n",
        "        dataset = dataset.shuffle(buffer_size=1000).repeat()\n",
        "\n",
        "    # take advantage of multi-threading; 1=AUTOTUNE\n",
        "    dataset = dataset.prefetch(1)\n",
        "    return dataset"
      ],
      "execution_count": 17,
      "outputs": []
    },
    {
      "cell_type": "markdown",
      "metadata": {
        "id": "1oE_kGsvBBv1"
      },
      "source": [
        "## **Feature columns for Wide and Deep model**\n",
        "\n",
        "For the Wide columns, we will create feature columns of crossed features. To do this, we'll create a collection of Tensorflow feature columns to pass to the `tf.feature_column.crossed_column` constructor. The Deep columns will consist of numeric columns and the embedding columns we want to create. "
      ]
    },
    {
      "cell_type": "code",
      "metadata": {
        "id": "p1rNA8qrBBv1"
      },
      "source": [
        "# TODO 1\n",
        "\n",
        "# 1. Bucketize latitudes and longitudes\n",
        "NBUCKETS = 16\n",
        "latbuckets = np.linspace(start=38.0, stop=42.0, num=NBUCKETS).tolist()\n",
        "lonbuckets = np.linspace(start=-76.0, stop=-72.0, num=NBUCKETS).tolist()\n",
        "\n",
        "fc_bucketized_plat = fc.bucketized_column(\n",
        "    source_column=fc.numeric_column(\"pickup_longitude\"), boundaries=lonbuckets)\n",
        "fc_bucketized_plon = fc.bucketized_column(\n",
        "    source_column=fc.numeric_column(\"pickup_latitude\"), boundaries=latbuckets)\n",
        "fc_bucketized_dlat = fc.bucketized_column(\n",
        "    source_column=fc.numeric_column(\"dropoff_longitude\"), boundaries=lonbuckets)\n",
        "fc_bucketized_dlon = fc.bucketized_column(\n",
        "    source_column=fc.numeric_column(\"dropoff_latitude\"), boundaries=latbuckets)\n",
        "\n",
        "# 2. Cross features for locations\n",
        "fc_crossed_dloc = fc.crossed_column(\n",
        "    [fc_bucketized_dlat, fc_bucketized_dlon],\n",
        "    hash_bucket_size=NBUCKETS * NBUCKETS)\n",
        "fc_crossed_ploc = fc.crossed_column(\n",
        "    [fc_bucketized_plat, fc_bucketized_plon],\n",
        "    hash_bucket_size=NBUCKETS * NBUCKETS)\n",
        "fc_crossed_pd_pair = fc.crossed_column(\n",
        "    [fc_crossed_dloc, fc_crossed_ploc],\n",
        "    hash_bucket_size=NBUCKETS**4)\n",
        "\n",
        "# 3. Create embedding columns for the crossed columns\n",
        "fc_pd_pair = fc.embedding_column(categorical_column=fc_crossed_pd_pair, dimension=3)\n",
        "fc_dloc = fc.embedding_column(categorical_column=fc_crossed_dloc, dimension=3)\n",
        "fc_ploc = fc.embedding_column(categorical_column=fc_crossed_ploc, dimension=3)"
      ],
      "execution_count": 18,
      "outputs": []
    },
    {
      "cell_type": "markdown",
      "metadata": {
        "id": "HY_eeyNlBBv2"
      },
      "source": [
        "### **Gather list of feature columns**\n",
        "\n",
        "Next we gather the list of wide and deep feature columns we'll pass to our Wide & Deep model in Tensorflow. Recall, wide columns are sparse, have linear relationship with the output while continuous columns are deep, have a complex relationship with the output. We will use our previously bucketized columns to collect crossed feature columns and sparse feature columns for our wide columns, and embedding feature columns and numeric features columns for the deep columns."
      ]
    },
    {
      "cell_type": "code",
      "metadata": {
        "id": "6-9FqRIhBBv2"
      },
      "source": [
        "# TODO 2\n",
        "wide_columns = [\n",
        "    # One-hot encoded feature crosses\n",
        "    fc.indicator_column(fc_crossed_dloc),\n",
        "    fc.indicator_column(fc_crossed_ploc),\n",
        "    fc.indicator_column(fc_crossed_pd_pair)\n",
        "]\n",
        "\n",
        "deep_columns = [\n",
        "    # Embedding_column to \"group\" together ...\n",
        "    fc.embedding_column(fc_crossed_pd_pair, dimension=10),\n",
        "\n",
        "    # Numeric columns\n",
        "    fc.numeric_column(\"pickup_latitude\"),\n",
        "    fc.numeric_column(\"pickup_longitude\"),\n",
        "    fc.numeric_column(\"dropoff_longitude\"),\n",
        "    fc.numeric_column(\"dropoff_latitude\")\n",
        "]"
      ],
      "execution_count": 19,
      "outputs": []
    },
    {
      "cell_type": "markdown",
      "metadata": {
        "id": "37A2ytt6BBv2"
      },
      "source": [
        "## **Build a Wide and Deep model in Keras**\n",
        "\n",
        "To build a wide-and-deep network, we connect the sparse (i.e. wide) features directly to the output node, but pass the dense (i.e. deep) features through a set of fully connected layers. Here’s that model architecture looks using the Functional API.\n",
        "\n",
        "First, we'll create our input columns using [tf.keras.layers.Input](https://www.tensorflow.org/versions/r2.0/api_docs/python/tf/keras/Input)."
      ]
    },
    {
      "cell_type": "code",
      "metadata": {
        "id": "Qjxaf1OoBBv3"
      },
      "source": [
        "INPUT_COLS = [\n",
        "    'pickup_longitude',\n",
        "    'pickup_latitude',\n",
        "    'dropoff_longitude',\n",
        "    'dropoff_latitude',\n",
        "    'passenger_count'\n",
        "]\n",
        "\n",
        "inputs = {colname : Input(name=colname, shape=(), dtype='float32')\n",
        "          for colname in INPUT_COLS\n",
        "}"
      ],
      "execution_count": 20,
      "outputs": []
    },
    {
      "cell_type": "markdown",
      "metadata": {
        "id": "WcutUI5hBBv3"
      },
      "source": [
        "Then, we'll define our custom RMSE evaluation metric and build our wide and deep model."
      ]
    },
    {
      "cell_type": "code",
      "metadata": {
        "id": "TiU61NZABBv3"
      },
      "source": [
        "# Here, tf.reduce_mean computes the mean of elements across dimensions of a tensor.\n",
        "# tf.sqrt Computes element-wise square root of the input tensor.\n",
        "# tf.square computes square of x element-wise.\n",
        "def rmse(y_true, y_pred):\n",
        "    return tf.sqrt(tf.reduce_mean(tf.square(y_pred - y_true)))\n",
        "\n",
        "# TODO 3\n",
        "def build_model(dnn_hidden_units):\n",
        "    # Create the deep part of model\n",
        "    deep = DenseFeatures(deep_columns, name='deep_inputs')(inputs)\n",
        "    for num_nodes in dnn_hidden_units:\n",
        "        deep = Dense(num_nodes, activation='relu')(deep) \n",
        "\n",
        "    # Create the wide part of model\n",
        "    wide = DenseFeatures(wide_columns, name='wide_inputs')(inputs)\n",
        "\n",
        "    # Combine deep and wide parts of the model\n",
        "    combined = concatenate(inputs=[deep, wide], name='combined')\n",
        "\n",
        "    # Map the combined outputs into a single prediction value\n",
        "    output = Dense(units=1, activation=None, name='prediction')(combined)\n",
        "    \n",
        "    # Finalize the model\n",
        "    model = Model(inputs=list(inputs.values()), outputs=output)\n",
        "\n",
        "    # Compile the keras model\n",
        "    model.compile(optimizer=\"adam\", loss=\"mse\", metrics=[rmse, \"mse\"])\n",
        "    \n",
        "    return model"
      ],
      "execution_count": 21,
      "outputs": []
    },
    {
      "cell_type": "markdown",
      "metadata": {
        "id": "BoMOmmZFBBv3"
      },
      "source": [
        "Next, we can call the `build_model` to create the model. Here we'll have two hidden layers, each with 10 neurons, for the deep part of our model. We can also use `plot_model` to see a diagram of the model we've created."
      ]
    },
    {
      "cell_type": "code",
      "metadata": {
        "colab": {
          "base_uri": "https://localhost:8080/",
          "height": 370
        },
        "id": "tS61RzmaBBv3",
        "outputId": "b2f9d7c5-26ef-4029-b9b8-3fce73c74c0e"
      },
      "source": [
        "HIDDEN_UNITS = [10,10]\n",
        "\n",
        "# Calling the build model\n",
        "model = build_model(dnn_hidden_units=HIDDEN_UNITS)\n",
        "\n",
        "# Converts a Keras plot_model to see a diagram of the model that we have created.\n",
        "tf.keras.utils.plot_model(model, show_shapes=False, rankdir='LR')"
      ],
      "execution_count": 22,
      "outputs": [
        {
          "output_type": "execute_result",
          "data": {
            "image/png": "[encoded data removed]",
            "text/plain": [
              "<IPython.core.display.Image object>"
            ]
          },
          "metadata": {
            "tags": []
          },
          "execution_count": 22
        }
      ]
    },
    {
      "cell_type": "markdown",
      "metadata": {
        "id": "CBLHDID4BBv4"
      },
      "source": [
        "Next, we'll set up our training variables, create our datasets for training and validation, and train our model.\n",
        "\n",
        "(We refer you the the blog post [ML Design Pattern #3: Virtual Epochs](https://medium.com/google-cloud/ml-design-pattern-3-virtual-epochs-f842296de730) for further details on why express the training in terms of `NUM_TRAIN_EXAMPLES` and `NUM_EVALS` and why, in this training code, the number of epochs is really equal to the number of evaluations we perform.)"
      ]
    },
    {
      "cell_type": "code",
      "metadata": {
        "colab": {
          "base_uri": "https://localhost:8080/"
        },
        "id": "PLe9_lyFCV18",
        "outputId": "59769b7a-74a1-434d-f7b9-9d25fa4f004a"
      },
      "source": [
        "from google.colab import drive\n",
        "drive.mount('/content/drive')"
      ],
      "execution_count": 23,
      "outputs": [
        {
          "output_type": "stream",
          "text": [
            "Drive already mounted at /content/drive; to attempt to forcibly remount, call drive.mount(\"/content/drive\", force_remount=True).\n"
          ],
          "name": "stdout"
        }
      ]
    },
    {
      "cell_type": "code",
      "metadata": {
        "id": "8NpsnFIOBBv4"
      },
      "source": [
        "BATCH_SIZE = 1000\n",
        "NUM_TRAIN_EXAMPLES = 10000 * 5  # training dataset will repeat, wrap around\n",
        "NUM_EVALS = 50  # how many times to evaluate\n",
        "NUM_EVAL_EXAMPLES = 10000  # enough to get a reasonable sample\n",
        "\n",
        "trainds = create_dataset(\n",
        "    pattern='/content/drive/MyDrive/Datasets/taxi-test.csv',\n",
        "    batch_size=BATCH_SIZE,\n",
        "    mode='train')\n",
        "\n",
        "evalds = create_dataset(\n",
        "    pattern='/content/drive/MyDrive/Datasets/taxi-valid.csv',\n",
        "    batch_size=BATCH_SIZE,\n",
        "    mode='eval').take(NUM_EVAL_EXAMPLES//1000)"
      ],
      "execution_count": 24,
      "outputs": []
    },
    {
      "cell_type": "code",
      "metadata": {
        "colab": {
          "base_uri": "https://localhost:8080/"
        },
        "id": "N4ZOF0zTBBv4",
        "outputId": "1fab5c98-3692-4a36-9e78-3a43aeb44d8a"
      },
      "source": [
        "%%time\n",
        "# Here, %%time prints the wall time for the entire cell\n",
        "steps_per_epoch = NUM_TRAIN_EXAMPLES // (BATCH_SIZE * NUM_EVALS)\n",
        "\n",
        "OUTDIR = \"./taxi_trained\"\n",
        "shutil.rmtree(path=OUTDIR, ignore_errors=True) # start fresh each time\n",
        "\n",
        "history = model.fit(x=trainds,\n",
        "                    steps_per_epoch=steps_per_epoch,\n",
        "                    epochs=NUM_EVALS,\n",
        "                    validation_data=evalds,\n",
        "                    callbacks=[TensorBoard(OUTDIR)])"
      ],
      "execution_count": null,
      "outputs": [
        {
          "output_type": "stream",
          "text": [
            "Epoch 1/50\n"
          ],
          "name": "stdout"
        }
      ]
    },
    {
      "cell_type": "markdown",
      "metadata": {
        "id": "UhkDuo4RBBv4"
      },
      "source": [
        "Just as before, we can examine the history to see how the RMSE changes through training on the train set and validation set. "
      ]
    },
    {
      "cell_type": "code",
      "metadata": {
        "id": "ZrKliSlhBBv5"
      },
      "source": [
        "RMSE_COLS = ['rmse', 'val_rmse']\n",
        "\n",
        "# Pandas DataFrame is two-dimensional size-mutable, potentially heterogeneous tabular data structure with labeled axes (rows and columns).\n",
        "pd.DataFrame(history.history)[RMSE_COLS].plot()"
      ],
      "execution_count": null,
      "outputs": []
    }
  ]
}