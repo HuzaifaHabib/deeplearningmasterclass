{
  "nbformat": 4,
  "nbformat_minor": 0,
  "metadata": {
    "kernelspec": {
      "display_name": "Python 3",
      "language": "python",
      "name": "python3"
    },
    "language_info": {
      "codemirror_mode": {
        "name": "ipython",
        "version": 3
      },
      "file_extension": ".py",
      "mimetype": "text/x-python",
      "name": "python",
      "nbconvert_exporter": "python",
      "pygments_lexer": "ipython3",
      "version": "3.6.8"
    },
    "colab": {
      "name": "05_Tensorflow_Keras_Sequential.ipynb",
      "provenance": []
    }
  },
  "cells": [
    {
      "cell_type": "code",
      "metadata": {
        "colab": {
          "base_uri": "https://localhost:8080/"
        },
        "id": "p52tk0tn8wlz",
        "outputId": "a8124c76-eea7-4d69-e87a-46610b80719e"
      },
      "source": [
        "from google.colab import drive\n",
        "drive.mount('/content/drive')"
      ],
      "execution_count": 2,
      "outputs": [
        {
          "output_type": "stream",
          "text": [
            "Drive already mounted at /content/drive; to attempt to forcibly remount, call drive.mount(\"/content/drive\", force_remount=True).\n"
          ],
          "name": "stdout"
        }
      ]
    },
    {
      "cell_type": "markdown",
      "metadata": {
        "id": "zYaJvq4v5Q0Y"
      },
      "source": [
        "# **Introducing the Keras Sequential API**\n",
        "\n",
        "**Learning Objectives**\n",
        "  1. Build a DNN model using the Keras Sequential API\n",
        "  1. Learn how to use feature columns in a Keras model\n",
        "  1. Learn how to train a model with Keras\n",
        "  1. Learn how to save/load, and deploy a Keras model on GCP\n",
        "  1. Learn how to deploy and make predictions with at Keras model\n",
        "\n",
        "## **Introduction**\n",
        "\n",
        "The [Keras sequential API](https://keras.io/models/sequential/) allows you to create Tensorflow models layer-by-layer. This is useful for building most kinds of machine learning models but it does not allow you to create models that share layers, re-use layers or have multiple inputs or outputs. \n",
        "\n",
        "In this lab, we'll see how to build a simple deep neural network model using the Keras sequential api and feature columns. Once we have trained our model, we will deploy it using AI Platform and see how to call our model for online prediciton."
      ]
    },
    {
      "cell_type": "code",
      "metadata": {
        "colab": {
          "base_uri": "https://localhost:8080/"
        },
        "id": "7xTua8_h5Q0i",
        "outputId": "7095cd73-dcef-48a1-9784-510a3617a65d"
      },
      "source": [
        "# The datetime module used to work with dates as date objects.\n",
        "import datetime\n",
        "# The OS module in python provides functions for interacting with the operating system.\n",
        "import os\n",
        "# The shutil module in Python provides many functions of high-level operations on files and collections of files.\n",
        "# This module helps in automating process of copying and removal of files and directories.\n",
        "import shutil\n",
        "\n",
        "# Here we'll import data processing libraries like Numpy, Pandas and Tensorflow\n",
        "import numpy as np\n",
        "import pandas as pd\n",
        "import tensorflow as tf\n",
        "\n",
        "# Import pyplot package from matplotlib library\n",
        "from matplotlib import pyplot as plt\n",
        "# Import keras package from tensorflow library\n",
        "from tensorflow import keras\n",
        "\n",
        "# Import Sequential function from tensorflow.keras.models\n",
        "from tensorflow.keras.models import Sequential\n",
        "# Import Dense, DenseFeatures function from tensorflow.keras.layers\n",
        "from tensorflow.keras.layers import Dense, DenseFeatures\n",
        "# Import TensorBoard function from tensorflow.keras.callbacks\n",
        "from tensorflow.keras.callbacks import TensorBoard\n",
        "\n",
        "# Here we'll show the currently installed version of TensorFlow\n",
        "print(tf.__version__)\n",
        "%matplotlib inline"
      ],
      "execution_count": 3,
      "outputs": [
        {
          "output_type": "stream",
          "text": [
            "2.3.0\n"
          ],
          "name": "stdout"
        }
      ]
    },
    {
      "cell_type": "markdown",
      "metadata": {
        "id": "oQwX03Ps5Q0l"
      },
      "source": [
        "## **Load raw data**\n",
        "\n",
        "We will use the taxifare dataset, using the CSV files that we created in the first notebook of this sequence."
      ]
    },
    {
      "cell_type": "markdown",
      "metadata": {
        "id": "aR2em-ee5Q0o"
      },
      "source": [
        "## **Use tf.data to read the CSV files**\n",
        "\n",
        "We wrote these functions for reading data from the csv files above in the previous notebook."
      ]
    },
    {
      "cell_type": "code",
      "metadata": {
        "id": "kdkW79lJ5Q0o"
      },
      "source": [
        "# Defining the feature names into a list `CSV_COLUMNS`\n",
        "CSV_COLUMNS = [\n",
        "    'fare_amount',\n",
        "    'pickup_datetime',\n",
        "    'pickup_longitude',\n",
        "    'pickup_latitude',\n",
        "    'dropoff_longitude',\n",
        "    'dropoff_latitude',\n",
        "    'passenger_count',\n",
        "    'key'\n",
        "]\n",
        "LABEL_COLUMN = 'fare_amount'\n",
        "# Defining the default values into a list `DEFAULTS`\n",
        "DEFAULTS = [[0.0], ['na'], [0.0], [0.0], [0.0], [0.0], [0.0], ['na']]\n",
        "UNWANTED_COLS = ['pickup_datetime', 'key']\n",
        "\n",
        "\n",
        "def features_and_labels(row_data):\n",
        "# The .pop() method will return item and drop from frame. \n",
        "    label = row_data.pop(LABEL_COLUMN)\n",
        "    features = row_data\n",
        "    \n",
        "    for unwanted_col in UNWANTED_COLS:\n",
        "        features.pop(unwanted_col)\n",
        "\n",
        "    return features, label\n",
        "\n",
        "\n",
        "def create_dataset(pattern, batch_size=1, mode='eval'):\n",
        "# The tf.data.experimental.make_csv_dataset() method reads CSV files into a dataset\n",
        "    dataset = tf.data.experimental.make_csv_dataset(\n",
        "        pattern, batch_size, CSV_COLUMNS, DEFAULTS)\n",
        "\n",
        "# The map() function executes a specified function for each item in an iterable.\n",
        "# The item is sent to the function as a parameter.\n",
        "    dataset = dataset.map(features_and_labels)\n",
        "\n",
        "    if mode == 'train':\n",
        "# The shuffle() method takes a sequence (list, string, or tuple) and reorganize the order of the items.\n",
        "        dataset = dataset.shuffle(buffer_size=1000).repeat()\n",
        "\n",
        "    # take advantage of multi-threading; 1=AUTOTUNE\n",
        "    dataset = dataset.prefetch(1)\n",
        "    return dataset"
      ],
      "execution_count": 4,
      "outputs": []
    },
    {
      "cell_type": "markdown",
      "metadata": {
        "id": "dRtHr5ev5Q0q"
      },
      "source": [
        "## **Build a simple keras DNN model**\n",
        "\n",
        "We will use feature columns to connect our raw data to our keras DNN model. Feature columns make it easy to perform common types of feature engineering on your raw data. For example, you can one-hot encode categorical data, create feature crosses, embeddings and more. We'll cover these in more detail later in the course, but if you want to a sneak peak browse the official TensorFlow [feature columns guide](https://www.tensorflow.org/guide/feature_columns).\n",
        "\n",
        "In our case we won't do any feature engineering. However, we still need to create a list of feature columns to specify the numeric values which will be passed on to our model. To do this, we use `tf.feature_column.numeric_column()`\n",
        "\n",
        "We use a python dictionary comprehension to create the feature columns for our model, which is just an elegant alternative to a for loop."
      ]
    },
    {
      "cell_type": "code",
      "metadata": {
        "id": "vD9eU_y95Q0r"
      },
      "source": [
        "# Defining the feature names into a list `INPUT_COLS`\n",
        "INPUT_COLS = [\n",
        "    'pickup_longitude',\n",
        "    'pickup_latitude',\n",
        "    'dropoff_longitude',\n",
        "    'dropoff_latitude',\n",
        "    'passenger_count',\n",
        "]\n",
        "\n",
        "# Create input layer of feature columns\n",
        "# TODO 1\n",
        "feature_columns = {\n",
        "    colname: tf.feature_column.numeric_column(colname)\n",
        "    for colname in INPUT_COLS\n",
        "    }"
      ],
      "execution_count": 5,
      "outputs": []
    },
    {
      "cell_type": "markdown",
      "metadata": {
        "id": "BwO8JIqK5Q0s"
      },
      "source": [
        "Next, we create the DNN model. The Sequential model is a linear stack of layers and when building a model using the Sequential API, you configure each layer of the model in turn. Once all the layers have been added, you compile the model. "
      ]
    },
    {
      "cell_type": "code",
      "metadata": {
        "id": "Bf8AE-sJ5Q0s"
      },
      "source": [
        "# Build a keras DNN model using Sequential API\n",
        "# TODO 2a\n",
        "model = Sequential([\n",
        "    DenseFeatures(feature_columns=feature_columns.values()),\n",
        "    Dense(units=32, activation=\"relu\", name=\"h1\"),\n",
        "    Dense(units=8, activation=\"relu\", name=\"h2\"),\n",
        "    Dense(units=1, activation=\"linear\", name=\"output\")\n",
        "    ])"
      ],
      "execution_count": 6,
      "outputs": []
    },
    {
      "cell_type": "markdown",
      "metadata": {
        "id": "kpuWibPA5Q0t"
      },
      "source": [
        "Next, to prepare the model for training, you must configure the learning process. This is done using the compile method. The compile method takes three arguments:\n",
        "\n",
        "* An optimizer. This could be the string identifier of an existing optimizer (such as `rmsprop` or `adagrad`), or an instance of the [Optimizer class](https://www.tensorflow.org/versions/r2.0/api_docs/python/tf/keras/optimizers).\n",
        "* A loss function. This is the objective that the model will try to minimize. It can be the string identifier of an existing loss function from the [Losses class](https://www.tensorflow.org/versions/r2.0/api_docs/python/tf/keras/losses) (such as categorical_crossentropy or mse), or it can be a custom objective function.\n",
        "* A list of metrics. For any machine learning problem you will want a set of metrics to evaluate your model. A metric could be the string identifier of an existing metric or a custom metric function.\n",
        "\n",
        "We will add an additional custom metric called `rmse` to our list of metrics which will return the root mean square error. "
      ]
    },
    {
      "cell_type": "code",
      "metadata": {
        "id": "VwJNIqL05Q0t"
      },
      "source": [
        "# TODO 2b\n",
        "# Create a custom evalution metric\n",
        "def rmse(y_true, y_pred):\n",
        "    return tf.sqrt(tf.reduce_mean(tf.square(y_pred - y_true)))\n",
        "\n",
        "# Compile the keras model\n",
        "model.compile(optimizer=\"adam\", loss=\"mse\", metrics=[rmse, \"mse\"])"
      ],
      "execution_count": 7,
      "outputs": []
    },
    {
      "cell_type": "markdown",
      "metadata": {
        "id": "VswtuxoD5Q0t"
      },
      "source": [
        "## **Train the model**\n",
        "\n",
        "To train your model, Keras provides three functions that can be used:\n",
        " 1. `.fit()` for training a model for a fixed number of epochs (iterations on a dataset).\n",
        " 2. `.fit_generator()` for training a model on data yielded batch-by-batch by a generator\n",
        " 3. `.train_on_batch()` runs a single gradient update on a single batch of data. \n",
        " \n",
        "The `.fit()` function works well for small datasets which can fit entirely in memory. However, for large datasets (or if you need to manipulate the training data on the fly via data augmentation, etc) you will need to use `.fit_generator()` instead. The `.train_on_batch()` method is for more fine-grained control over training and accepts only a single batch of data.\n",
        "\n",
        "The taxifare dataset we sampled is small enough to fit in memory, so can we could use `.fit` to train our model. Our `create_dataset` function above generates batches of training examples, so we could also use `.fit_generator`. In fact, when calling `.fit` the method inspects the data, and if it's a generator (as our dataset is) it will invoke automatically `.fit_generator` for training. \n",
        "\n",
        "We start by setting up some parameters for our training job and create the data generators for the training and validation data.\n",
        "\n",
        "We refer you the the blog post [ML Design Pattern #3: Virtual Epochs](https://medium.com/google-cloud/ml-design-pattern-3-virtual-epochs-f842296de730) for further details on why express the training in terms of `NUM_TRAIN_EXAMPLES` and `NUM_EVALS` and why, in this training code, the number of epochs is really equal to the number of evaluations we perform."
      ]
    },
    {
      "cell_type": "code",
      "metadata": {
        "id": "A9wVtWYz5Q0u"
      },
      "source": [
        "TRAIN_BATCH_SIZE = 1000\n",
        "NUM_TRAIN_EXAMPLES = 10000 * 5  # training dataset will repeat, wrap around\n",
        "NUM_EVALS = 50  # how many times to evaluate\n",
        "NUM_EVAL_EXAMPLES = 10000  # enough to get a reasonable sample\n",
        "\n",
        "trainds = create_dataset(\n",
        "    pattern='/content/drive/MyDrive/Datasets/taxi-train.csv',\n",
        "    batch_size=TRAIN_BATCH_SIZE,\n",
        "    mode='train')\n",
        "\n",
        "evalds = create_dataset(\n",
        "    pattern='/content/drive/MyDrive/Datasets/taxi-valid.csv',\n",
        "    batch_size=1000,\n",
        "    mode='eval').take(NUM_EVAL_EXAMPLES//1000)"
      ],
      "execution_count": 8,
      "outputs": []
    },
    {
      "cell_type": "markdown",
      "metadata": {
        "id": "1v_vjGGV5Q0v"
      },
      "source": [
        "There are various arguments you can set when calling the [.fit method](https://www.tensorflow.org/versions/r2.0/api_docs/python/tf/keras/Model#fit). Here `x` specifies the input data which in our case is a `tf.data` dataset returning a tuple of (inputs, targets). The `steps_per_epoch` parameter is used to mark the end of training for a single epoch. Here we are training for NUM_EVALS epochs. Lastly, for the `callback` argument we specify a Tensorboard callback so we can inspect Tensorboard after training. "
      ]
    },
    {
      "cell_type": "code",
      "metadata": {
        "colab": {
          "base_uri": "https://localhost:8080/"
        },
        "id": "dbNbxcxv5Q0v",
        "outputId": "6e054c6c-0114-41f4-8528-0cc57183fa63"
      },
      "source": [
        "%time \n",
        "# TODO 3\n",
        "steps_per_epoch = NUM_TRAIN_EXAMPLES // (TRAIN_BATCH_SIZE * NUM_EVALS)\n",
        "\n",
        "LOGDIR = \"./taxi_trained\"\n",
        "# Train the sequential model\n",
        "history = model.fit(x=trainds,\n",
        "                    steps_per_epoch=steps_per_epoch,\n",
        "                    epochs=NUM_EVALS,\n",
        "                    validation_data=evalds,\n",
        "                    callbacks=[TensorBoard(LOGDIR)])"
      ],
      "execution_count": 9,
      "outputs": [
        {
          "output_type": "stream",
          "text": [
            "CPU times: user 4 µs, sys: 1e+03 ns, total: 5 µs\n",
            "Wall time: 8.11 µs\n",
            "Epoch 1/50\n",
            "WARNING:tensorflow:Layers in a Sequential model should only have a single input tensor, but we receive a <class 'collections.OrderedDict'> input: OrderedDict([('pickup_longitude', <tf.Tensor 'ExpandDims_4:0' shape=(1000, 1) dtype=float32>), ('pickup_latitude', <tf.Tensor 'ExpandDims_3:0' shape=(1000, 1) dtype=float32>), ('dropoff_longitude', <tf.Tensor 'ExpandDims_1:0' shape=(1000, 1) dtype=float32>), ('dropoff_latitude', <tf.Tensor 'ExpandDims:0' shape=(1000, 1) dtype=float32>), ('passenger_count', <tf.Tensor 'ExpandDims_2:0' shape=(1000, 1) dtype=float32>)])\n",
            "Consider rewriting this model with the Functional API.\n",
            "WARNING:tensorflow:Layers in a Sequential model should only have a single input tensor, but we receive a <class 'collections.OrderedDict'> input: OrderedDict([('pickup_longitude', <tf.Tensor 'ExpandDims_4:0' shape=(1000, 1) dtype=float32>), ('pickup_latitude', <tf.Tensor 'ExpandDims_3:0' shape=(1000, 1) dtype=float32>), ('dropoff_longitude', <tf.Tensor 'ExpandDims_1:0' shape=(1000, 1) dtype=float32>), ('dropoff_latitude', <tf.Tensor 'ExpandDims:0' shape=(1000, 1) dtype=float32>), ('passenger_count', <tf.Tensor 'ExpandDims_2:0' shape=(1000, 1) dtype=float32>)])\n",
            "Consider rewriting this model with the Functional API.\n",
            "1/1 [==============================] - ETA: 0s - loss: 2845.3591 - rmse: 53.3419 - mse: 2845.3591WARNING:tensorflow:Layers in a Sequential model should only have a single input tensor, but we receive a <class 'collections.OrderedDict'> input: OrderedDict([('pickup_longitude', <tf.Tensor 'ExpandDims_4:0' shape=(1000, 1) dtype=float32>), ('pickup_latitude', <tf.Tensor 'ExpandDims_3:0' shape=(1000, 1) dtype=float32>), ('dropoff_longitude', <tf.Tensor 'ExpandDims_1:0' shape=(1000, 1) dtype=float32>), ('dropoff_latitude', <tf.Tensor 'ExpandDims:0' shape=(1000, 1) dtype=float32>), ('passenger_count', <tf.Tensor 'ExpandDims_2:0' shape=(1000, 1) dtype=float32>)])\n",
            "Consider rewriting this model with the Functional API.\n",
            "1/1 [==============================] - 1s 965ms/step - loss: 2845.3591 - rmse: 53.3419 - mse: 2845.3591 - val_loss: 2638.5474 - val_rmse: 51.3664 - val_mse: 2638.5474\n",
            "Epoch 2/50\n",
            "WARNING:tensorflow:From /usr/local/lib/python3.6/dist-packages/tensorflow/python/ops/summary_ops_v2.py:1277: stop (from tensorflow.python.eager.profiler) is deprecated and will be removed after 2020-07-01.\n",
            "Instructions for updating:\n",
            "use `tf.profiler.experimental.stop` instead.\n",
            "1/1 [==============================] - 0s 287ms/step - loss: 2660.5149 - rmse: 51.5802 - mse: 2660.5149 - val_loss: 2454.7749 - val_rmse: 49.5455 - val_mse: 2454.7749\n",
            "Epoch 3/50\n",
            "1/1 [==============================] - 0s 300ms/step - loss: 2484.9045 - rmse: 49.8488 - mse: 2484.9045 - val_loss: 2280.7473 - val_rmse: 47.7570 - val_mse: 2280.7473\n",
            "Epoch 4/50\n",
            "1/1 [==============================] - 0s 315ms/step - loss: 2324.8110 - rmse: 48.2163 - mse: 2324.8110 - val_loss: 2116.2241 - val_rmse: 46.0023 - val_mse: 2116.2241\n",
            "Epoch 5/50\n",
            "1/1 [==============================] - 0s 317ms/step - loss: 2140.3047 - rmse: 46.2634 - mse: 2140.3047 - val_loss: 1957.8464 - val_rmse: 44.2475 - val_mse: 1957.8464\n",
            "Epoch 6/50\n",
            "1/1 [==============================] - 0s 318ms/step - loss: 2006.0345 - rmse: 44.7888 - mse: 2006.0345 - val_loss: 1810.6940 - val_rmse: 42.5522 - val_mse: 1810.6940\n",
            "Epoch 7/50\n",
            "1/1 [==============================] - 0s 312ms/step - loss: 1865.5896 - rmse: 43.1925 - mse: 1865.5896 - val_loss: 1669.2253 - val_rmse: 40.8559 - val_mse: 1669.2253\n",
            "Epoch 8/50\n",
            "1/1 [==============================] - 0s 296ms/step - loss: 1704.2744 - rmse: 41.2829 - mse: 1704.2744 - val_loss: 1539.0696 - val_rmse: 39.2309 - val_mse: 1539.0696\n",
            "Epoch 9/50\n",
            "1/1 [==============================] - 0s 322ms/step - loss: 1554.4714 - rmse: 39.4268 - mse: 1554.4714 - val_loss: 1415.5079 - val_rmse: 37.6231 - val_mse: 1415.5079\n",
            "Epoch 10/50\n",
            "1/1 [==============================] - 0s 320ms/step - loss: 1416.5823 - rmse: 37.6375 - mse: 1416.5823 - val_loss: 1299.6912 - val_rmse: 36.0511 - val_mse: 1299.6912\n",
            "Epoch 11/50\n",
            "1/1 [==============================] - 0s 319ms/step - loss: 1304.8936 - rmse: 36.1233 - mse: 1304.8936 - val_loss: 1194.4030 - val_rmse: 34.5600 - val_mse: 1194.4030\n",
            "Epoch 12/50\n",
            "1/1 [==============================] - 0s 342ms/step - loss: 1201.4955 - rmse: 34.6626 - mse: 1201.4955 - val_loss: 1094.2394 - val_rmse: 33.0790 - val_mse: 1094.2394\n",
            "Epoch 13/50\n",
            "1/1 [==============================] - 0s 300ms/step - loss: 1118.0763 - rmse: 33.4376 - mse: 1118.0763 - val_loss: 1001.0055 - val_rmse: 31.6383 - val_mse: 1001.0055\n",
            "Epoch 14/50\n",
            "1/1 [==============================] - 0s 301ms/step - loss: 993.3612 - rmse: 31.5176 - mse: 993.3612 - val_loss: 915.6498 - val_rmse: 30.2594 - val_mse: 915.6498\n",
            "Epoch 15/50\n",
            "1/1 [==============================] - 0s 318ms/step - loss: 915.0344 - rmse: 30.2495 - mse: 915.0344 - val_loss: 833.7306 - val_rmse: 28.8738 - val_mse: 833.7306\n",
            "Epoch 16/50\n",
            "1/1 [==============================] - 0s 316ms/step - loss: 852.8934 - rmse: 29.2043 - mse: 852.8934 - val_loss: 760.0588 - val_rmse: 27.5689 - val_mse: 760.0588\n",
            "Epoch 17/50\n",
            "1/1 [==============================] - 0s 301ms/step - loss: 761.4683 - rmse: 27.5947 - mse: 761.4683 - val_loss: 692.1376 - val_rmse: 26.3083 - val_mse: 692.1376\n",
            "Epoch 18/50\n",
            "1/1 [==============================] - 0s 317ms/step - loss: 699.1639 - rmse: 26.4417 - mse: 699.1639 - val_loss: 628.8080 - val_rmse: 25.0756 - val_mse: 628.8080\n",
            "Epoch 19/50\n",
            "1/1 [==============================] - 0s 306ms/step - loss: 626.3447 - rmse: 25.0269 - mse: 626.3447 - val_loss: 570.7025 - val_rmse: 23.8886 - val_mse: 570.7025\n",
            "Epoch 20/50\n",
            "1/1 [==============================] - 0s 315ms/step - loss: 580.5126 - rmse: 24.0938 - mse: 580.5126 - val_loss: 519.5519 - val_rmse: 22.7934 - val_mse: 519.5519\n",
            "Epoch 21/50\n",
            "1/1 [==============================] - 0s 321ms/step - loss: 535.2344 - rmse: 23.1351 - mse: 535.2344 - val_loss: 468.7684 - val_rmse: 21.6497 - val_mse: 468.7684\n",
            "Epoch 22/50\n",
            "1/1 [==============================] - 0s 305ms/step - loss: 462.5979 - rmse: 21.5081 - mse: 462.5979 - val_loss: 425.2217 - val_rmse: 20.6187 - val_mse: 425.2217\n",
            "Epoch 23/50\n",
            "1/1 [==============================] - 0s 314ms/step - loss: 425.6294 - rmse: 20.6308 - mse: 425.6294 - val_loss: 386.2183 - val_rmse: 19.6514 - val_mse: 386.2183\n",
            "Epoch 24/50\n",
            "1/1 [==============================] - 0s 326ms/step - loss: 380.7102 - rmse: 19.5118 - mse: 380.7102 - val_loss: 350.1385 - val_rmse: 18.7108 - val_mse: 350.1385\n",
            "Epoch 25/50\n",
            "1/1 [==============================] - 0s 315ms/step - loss: 346.0125 - rmse: 18.6014 - mse: 346.0125 - val_loss: 316.9199 - val_rmse: 17.8008 - val_mse: 316.9199\n",
            "Epoch 26/50\n",
            "1/1 [==============================] - 0s 313ms/step - loss: 302.7021 - rmse: 17.3983 - mse: 302.7021 - val_loss: 288.2084 - val_rmse: 16.9756 - val_mse: 288.2084\n",
            "Epoch 27/50\n",
            "1/1 [==============================] - 0s 299ms/step - loss: 288.7130 - rmse: 16.9916 - mse: 288.7130 - val_loss: 262.2788 - val_rmse: 16.1943 - val_mse: 262.2788\n",
            "Epoch 28/50\n",
            "1/1 [==============================] - 0s 324ms/step - loss: 283.4104 - rmse: 16.8348 - mse: 283.4104 - val_loss: 237.4816 - val_rmse: 15.4089 - val_mse: 237.4816\n",
            "Epoch 29/50\n",
            "1/1 [==============================] - 0s 309ms/step - loss: 225.2382 - rmse: 15.0079 - mse: 225.2382 - val_loss: 220.0373 - val_rmse: 14.8290 - val_mse: 220.0373\n",
            "Epoch 30/50\n",
            "1/1 [==============================] - 0s 305ms/step - loss: 206.0387 - rmse: 14.3540 - mse: 206.0387 - val_loss: 201.5772 - val_rmse: 14.1887 - val_mse: 201.5772\n",
            "Epoch 31/50\n",
            "1/1 [==============================] - 0s 314ms/step - loss: 199.3213 - rmse: 14.1181 - mse: 199.3213 - val_loss: 184.8532 - val_rmse: 13.5935 - val_mse: 184.8532\n",
            "Epoch 32/50\n",
            "1/1 [==============================] - 0s 321ms/step - loss: 176.4465 - rmse: 13.2833 - mse: 176.4465 - val_loss: 170.2263 - val_rmse: 13.0411 - val_mse: 170.2263\n",
            "Epoch 33/50\n",
            "1/1 [==============================] - 0s 326ms/step - loss: 148.2447 - rmse: 12.1756 - mse: 148.2447 - val_loss: 160.3135 - val_rmse: 12.6584 - val_mse: 160.3135\n",
            "Epoch 34/50\n",
            "1/1 [==============================] - 0s 337ms/step - loss: 146.9054 - rmse: 12.1205 - mse: 146.9054 - val_loss: 150.0209 - val_rmse: 12.2435 - val_mse: 150.0209\n",
            "Epoch 35/50\n",
            "1/1 [==============================] - 0s 346ms/step - loss: 122.7094 - rmse: 11.0774 - mse: 122.7094 - val_loss: 143.1019 - val_rmse: 11.9286 - val_mse: 143.1019\n",
            "Epoch 36/50\n",
            "1/1 [==============================] - 0s 310ms/step - loss: 120.7922 - rmse: 10.9905 - mse: 120.7922 - val_loss: 134.0315 - val_rmse: 11.5693 - val_mse: 134.0315\n",
            "Epoch 37/50\n",
            "1/1 [==============================] - 0s 330ms/step - loss: 136.1469 - rmse: 11.6682 - mse: 136.1469 - val_loss: 127.6774 - val_rmse: 11.2914 - val_mse: 127.6774\n",
            "Epoch 38/50\n",
            "1/1 [==============================] - 0s 321ms/step - loss: 125.2310 - rmse: 11.1907 - mse: 125.2310 - val_loss: 124.6228 - val_rmse: 11.1544 - val_mse: 124.6228\n",
            "Epoch 39/50\n",
            "1/1 [==============================] - 0s 316ms/step - loss: 102.9877 - rmse: 10.1483 - mse: 102.9877 - val_loss: 119.1225 - val_rmse: 10.9018 - val_mse: 119.1225\n",
            "Epoch 40/50\n",
            "1/1 [==============================] - 0s 332ms/step - loss: 103.7785 - rmse: 10.1872 - mse: 103.7785 - val_loss: 116.1633 - val_rmse: 10.7678 - val_mse: 116.1633\n",
            "Epoch 41/50\n",
            "1/1 [==============================] - 0s 331ms/step - loss: 85.2889 - rmse: 9.2352 - mse: 85.2889 - val_loss: 114.1416 - val_rmse: 10.6526 - val_mse: 114.1416\n",
            "Epoch 42/50\n",
            "1/1 [==============================] - 0s 298ms/step - loss: 80.0077 - rmse: 8.9447 - mse: 80.0077 - val_loss: 112.7847 - val_rmse: 10.6144 - val_mse: 112.7847\n",
            "Epoch 43/50\n",
            "1/1 [==============================] - 0s 334ms/step - loss: 106.8788 - rmse: 10.3382 - mse: 106.8788 - val_loss: 111.7697 - val_rmse: 10.5659 - val_mse: 111.7697\n",
            "Epoch 44/50\n",
            "1/1 [==============================] - 0s 321ms/step - loss: 95.8999 - rmse: 9.7929 - mse: 95.8999 - val_loss: 111.2026 - val_rmse: 10.5374 - val_mse: 111.2026\n",
            "Epoch 45/50\n",
            "1/1 [==============================] - 0s 303ms/step - loss: 101.1949 - rmse: 10.0596 - mse: 101.1949 - val_loss: 110.2782 - val_rmse: 10.4943 - val_mse: 110.2782\n",
            "Epoch 46/50\n",
            "1/1 [==============================] - 0s 319ms/step - loss: 104.2461 - rmse: 10.2101 - mse: 104.2461 - val_loss: 110.5367 - val_rmse: 10.5026 - val_mse: 110.5367\n",
            "Epoch 47/50\n",
            "1/1 [==============================] - 0s 339ms/step - loss: 101.9217 - rmse: 10.0956 - mse: 101.9217 - val_loss: 109.2867 - val_rmse: 10.4287 - val_mse: 109.2867\n",
            "Epoch 48/50\n",
            "1/1 [==============================] - 0s 316ms/step - loss: 130.3854 - rmse: 11.4186 - mse: 130.3854 - val_loss: 110.3462 - val_rmse: 10.4985 - val_mse: 110.3462\n",
            "Epoch 49/50\n",
            "1/1 [==============================] - 0s 367ms/step - loss: 84.7728 - rmse: 9.2072 - mse: 84.7728 - val_loss: 111.0305 - val_rmse: 10.5233 - val_mse: 111.0305\n",
            "Epoch 50/50\n",
            "1/1 [==============================] - 0s 314ms/step - loss: 115.2668 - rmse: 10.7362 - mse: 115.2668 - val_loss: 110.4698 - val_rmse: 10.5021 - val_mse: 110.4698\n"
          ],
          "name": "stdout"
        }
      ]
    },
    {
      "cell_type": "markdown",
      "metadata": {
        "id": "rd8bhpLj5Q0w"
      },
      "source": [
        "### **High-level model evaluation**\n",
        "\n",
        "Once we've run data through the model, we can call `.summary()` on the model to get a high-level summary of our network. We can also plot the training and evaluation curves for the metrics we computed above. "
      ]
    },
    {
      "cell_type": "code",
      "metadata": {
        "colab": {
          "base_uri": "https://localhost:8080/"
        },
        "id": "AHe4jtHu5Q0x",
        "outputId": "06a9526b-3568-4cac-8e49-be07daa6c986"
      },
      "source": [
        "# The summary() is a generic function used to produce result summaries of the results of various model fitting functions.\n",
        "model.summary()"
      ],
      "execution_count": 10,
      "outputs": [
        {
          "output_type": "stream",
          "text": [
            "Model: \"sequential\"\n",
            "_________________________________________________________________\n",
            "Layer (type)                 Output Shape              Param #   \n",
            "=================================================================\n",
            "dense_features (DenseFeature multiple                  0         \n",
            "_________________________________________________________________\n",
            "h1 (Dense)                   multiple                  192       \n",
            "_________________________________________________________________\n",
            "h2 (Dense)                   multiple                  264       \n",
            "_________________________________________________________________\n",
            "output (Dense)               multiple                  9         \n",
            "=================================================================\n",
            "Total params: 465\n",
            "Trainable params: 465\n",
            "Non-trainable params: 0\n",
            "_________________________________________________________________\n"
          ],
          "name": "stdout"
        }
      ]
    },
    {
      "cell_type": "markdown",
      "metadata": {
        "id": "X28I3U8h5Q0x"
      },
      "source": [
        "Running `.fit` (or `.fit_generator`) returns a History object which collects all the events recorded during training. Similar to Tensorboard, we can plot the training and validation curves for the model loss and rmse by accessing these elements of the History object."
      ]
    },
    {
      "cell_type": "code",
      "metadata": {
        "colab": {
          "base_uri": "https://localhost:8080/",
          "height": 282
        },
        "id": "27Eesabr5Q0x",
        "outputId": "698c3c96-467a-456c-d939-b779852bf5bb"
      },
      "source": [
        "RMSE_COLS = ['rmse', 'val_rmse']\n",
        "\n",
        "# The history object is returned from calls to the fit() function used to train the model.\n",
        "# Metrics are stored in a dictionary in the history member of the object returned.\n",
        "pd.DataFrame(history.history)[RMSE_COLS].plot()"
      ],
      "execution_count": 11,
      "outputs": [
        {
          "output_type": "execute_result",
          "data": {
            "text/plain": [
              "<matplotlib.axes._subplots.AxesSubplot at 0x7fe2b1dbda20>"
            ]
          },
          "metadata": {
            "tags": []
          },
          "execution_count": 11
        },
        {
          "output_type": "display_data",
          "data": {
            "image/png": "[encoded data removed]",
            "text/plain": [
              "<Figure size 432x288 with 1 Axes>"
            ]
          },
          "metadata": {
            "tags": [],
            "needs_background": "light"
          }
        }
      ]
    },
    {
      "cell_type": "code",
      "metadata": {
        "colab": {
          "base_uri": "https://localhost:8080/",
          "height": 282
        },
        "id": "zwsZDgI95Q0y",
        "outputId": "f04c58aa-acc8-4df5-98de-2b58a9f3391c"
      },
      "source": [
        "LOSS_COLS = ['loss', 'val_loss']\n",
        "\n",
        "# The history object is returned from calls to the fit() function used to train the model.\n",
        "# Metrics are stored in a dictionary in the history member of the object returned.\n",
        "pd.DataFrame(history.history)[LOSS_COLS].plot()"
      ],
      "execution_count": 12,
      "outputs": [
        {
          "output_type": "execute_result",
          "data": {
            "text/plain": [
              "<matplotlib.axes._subplots.AxesSubplot at 0x7fe2b1cda550>"
            ]
          },
          "metadata": {
            "tags": []
          },
          "execution_count": 12
        },
        {
          "output_type": "display_data",
          "data": {
            "image/png": "[encoded data removed]",
            "text/plain": [
              "<Figure size 432x288 with 1 Axes>"
            ]
          },
          "metadata": {
            "tags": [],
            "needs_background": "light"
          }
        }
      ]
    },
    {
      "cell_type": "markdown",
      "metadata": {
        "id": "pq8G9yb85Q0y"
      },
      "source": [
        "# **Making predictions with our model**\n",
        "\n",
        "To make predictions with our trained model, we can call the [predict method](https://www.tensorflow.org/api_docs/python/tf/keras/Model#predict), passing to it a dictionary of values. The `steps` parameter determines the total number of steps before declaring the prediction round finished. Here since we have just one example, we set `steps=1` (setting `steps=None` would also work). Note, however, that if x is a `tf.data` dataset or a dataset iterator, and steps is set to None, predict will run until the input dataset is exhausted."
      ]
    },
    {
      "cell_type": "code",
      "metadata": {
        "colab": {
          "base_uri": "https://localhost:8080/"
        },
        "id": "BSdtyNkI5Q0y",
        "outputId": "0e46417d-6f83-494a-dc27-9d983e9fc0d3"
      },
      "source": [
        "# The predict() method will predict the response for model. \n",
        "# Using tf.convert_to_tensor() we will convert the given value to a Tensor. \n",
        "model.predict(x={\"pickup_longitude\": tf.convert_to_tensor([-73.982683]),\n",
        "                 \"pickup_latitude\": tf.convert_to_tensor([40.742104]),\n",
        "                 \"dropoff_longitude\": tf.convert_to_tensor([-73.983766]),\n",
        "                 \"dropoff_latitude\": tf.convert_to_tensor([40.755174]),\n",
        "                 \"passenger_count\": tf.convert_to_tensor([3.0])},\n",
        "              steps=1)"
      ],
      "execution_count": 13,
      "outputs": [
        {
          "output_type": "stream",
          "text": [
            "WARNING:tensorflow:Layers in a Sequential model should only have a single input tensor, but we receive a <class 'dict'> input: {'pickup_longitude': <tf.Tensor 'ExpandDims_4:0' shape=(1, 1) dtype=float32>, 'pickup_latitude': <tf.Tensor 'ExpandDims_3:0' shape=(1, 1) dtype=float32>, 'dropoff_longitude': <tf.Tensor 'ExpandDims_1:0' shape=(1, 1) dtype=float32>, 'dropoff_latitude': <tf.Tensor 'ExpandDims:0' shape=(1, 1) dtype=float32>, 'passenger_count': <tf.Tensor 'ExpandDims_2:0' shape=(1, 1) dtype=float32>}\n",
            "Consider rewriting this model with the Functional API.\n"
          ],
          "name": "stdout"
        },
        {
          "output_type": "execute_result",
          "data": {
            "text/plain": [
              "array([[10.869488]], dtype=float32)"
            ]
          },
          "metadata": {
            "tags": []
          },
          "execution_count": 13
        }
      ]
    }
  ]
}